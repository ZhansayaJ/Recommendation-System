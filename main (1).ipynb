{
  "cells": [
    {
      "cell_type": "markdown",
      "metadata": {
        "id": "lghStb7WU9a7"
      },
      "source": [
        "Recommendation systems and Clustering\n"
      ]
    },
    {
      "cell_type": "markdown",
      "metadata": {
        "id": "2ZKytQiUU9a8"
      },
      "source": [
        "### Data Preprocessing\n"
      ]
    },
    {
      "cell_type": "code",
      "execution_count": 1,
      "metadata": {
        "id": "21XDHz4_U9a8"
      },
      "outputs": [],
      "source": [
        "#import necessary libraries\n",
        "import pandas as pd\n",
        "import numpy as np\n",
        "from itertools import permutations\n",
        "import warnings\n",
        "from datasketch import MinHash, MinHashLSH\n",
        "from sklearn.metrics import jaccard_score\n",
        "import matplotlib.pyplot as plt\n",
        "import seaborn as sns"
      ]
    },
    {
      "cell_type": "code",
      "execution_count": 2,
      "metadata": {
        "colab": {
          "base_uri": "https://localhost:8080/",
          "height": 327
        },
        "id": "XyrLUivTU9a9",
        "outputId": "cb9b19f7-7d0f-40d1-aab3-46c3d6bed83f"
      },
      "outputs": [
        {
          "data": {
            "text/html": [
              "<div>\n",
              "<style scoped>\n",
              "    .dataframe tbody tr th:only-of-type {\n",
              "        vertical-align: middle;\n",
              "    }\n",
              "\n",
              "    .dataframe tbody tr th {\n",
              "        vertical-align: top;\n",
              "    }\n",
              "\n",
              "    .dataframe thead th {\n",
              "        text-align: right;\n",
              "    }\n",
              "</style>\n",
              "<table border=\"1\" class=\"dataframe\">\n",
              "  <thead>\n",
              "    <tr style=\"text-align: right;\">\n",
              "      <th></th>\n",
              "      <th>row_id</th>\n",
              "      <th>datetime</th>\n",
              "      <th>duration</th>\n",
              "      <th>title</th>\n",
              "      <th>genres</th>\n",
              "      <th>release_date</th>\n",
              "      <th>movie_id</th>\n",
              "      <th>user_id</th>\n",
              "    </tr>\n",
              "  </thead>\n",
              "  <tbody>\n",
              "    <tr>\n",
              "      <th>0</th>\n",
              "      <td>58773</td>\n",
              "      <td>2017-01-01 01:15:09</td>\n",
              "      <td>0.0</td>\n",
              "      <td>Angus, Thongs and Perfect Snogging</td>\n",
              "      <td>Comedy, Drama, Romance</td>\n",
              "      <td>2008-07-25</td>\n",
              "      <td>26bd5987e8</td>\n",
              "      <td>1dea19f6fe</td>\n",
              "    </tr>\n",
              "    <tr>\n",
              "      <th>1</th>\n",
              "      <td>58774</td>\n",
              "      <td>2017-01-01 13:56:02</td>\n",
              "      <td>0.0</td>\n",
              "      <td>The Curse of Sleeping Beauty</td>\n",
              "      <td>Fantasy, Horror, Mystery, Thriller</td>\n",
              "      <td>2016-06-02</td>\n",
              "      <td>f26ed2675e</td>\n",
              "      <td>544dcbc510</td>\n",
              "    </tr>\n",
              "    <tr>\n",
              "      <th>2</th>\n",
              "      <td>58775</td>\n",
              "      <td>2017-01-01 15:17:47</td>\n",
              "      <td>10530.0</td>\n",
              "      <td>London Has Fallen</td>\n",
              "      <td>Action, Thriller</td>\n",
              "      <td>2016-03-04</td>\n",
              "      <td>f77e500e7a</td>\n",
              "      <td>7cbcc791bf</td>\n",
              "    </tr>\n",
              "    <tr>\n",
              "      <th>3</th>\n",
              "      <td>58776</td>\n",
              "      <td>2017-01-01 16:04:13</td>\n",
              "      <td>49.0</td>\n",
              "      <td>Vendetta</td>\n",
              "      <td>Action, Drama</td>\n",
              "      <td>2015-06-12</td>\n",
              "      <td>c74aec7673</td>\n",
              "      <td>ebf43c36b6</td>\n",
              "    </tr>\n",
              "    <tr>\n",
              "      <th>4</th>\n",
              "      <td>58777</td>\n",
              "      <td>2017-01-01 19:16:37</td>\n",
              "      <td>0.0</td>\n",
              "      <td>The SpongeBob SquarePants Movie</td>\n",
              "      <td>Animation, Action, Adventure, Comedy, Family, ...</td>\n",
              "      <td>2004-11-19</td>\n",
              "      <td>a80d6fc2aa</td>\n",
              "      <td>a57c992287</td>\n",
              "    </tr>\n",
              "  </tbody>\n",
              "</table>\n",
              "</div>"
            ],
            "text/plain": [
              "   row_id             datetime  duration                               title  \\\n",
              "0   58773  2017-01-01 01:15:09       0.0  Angus, Thongs and Perfect Snogging   \n",
              "1   58774  2017-01-01 13:56:02       0.0        The Curse of Sleeping Beauty   \n",
              "2   58775  2017-01-01 15:17:47   10530.0                   London Has Fallen   \n",
              "3   58776  2017-01-01 16:04:13      49.0                            Vendetta   \n",
              "4   58777  2017-01-01 19:16:37       0.0     The SpongeBob SquarePants Movie   \n",
              "\n",
              "                                              genres release_date    movie_id  \\\n",
              "0                             Comedy, Drama, Romance   2008-07-25  26bd5987e8   \n",
              "1                 Fantasy, Horror, Mystery, Thriller   2016-06-02  f26ed2675e   \n",
              "2                                   Action, Thriller   2016-03-04  f77e500e7a   \n",
              "3                                      Action, Drama   2015-06-12  c74aec7673   \n",
              "4  Animation, Action, Adventure, Comedy, Family, ...   2004-11-19  a80d6fc2aa   \n",
              "\n",
              "      user_id  \n",
              "0  1dea19f6fe  \n",
              "1  544dcbc510  \n",
              "2  7cbcc791bf  \n",
              "3  ebf43c36b6  \n",
              "4  a57c992287  "
            ]
          },
          "execution_count": 2,
          "metadata": {},
          "output_type": "execute_result"
        }
      ],
      "source": [
        "#open data\n",
        "df = pd.read_csv('vodclickstream_uk_movies_03.csv')\n",
        "df = df.rename(columns={'Unnamed: 0': 'row_id'})\n",
        "df.head()"
      ]
    },
    {
      "cell_type": "code",
      "execution_count": 3,
      "metadata": {
        "colab": {
          "base_uri": "https://localhost:8080/"
        },
        "id": "tWMsFTyHU9a_",
        "outputId": "9f46f7f8-0650-423f-8e1c-5528dbec477c"
      },
      "outputs": [
        {
          "name": "stdout",
          "output_type": "stream",
          "text": [
            "<class 'pandas.core.frame.DataFrame'>\n",
            "RangeIndex: 671736 entries, 0 to 671735\n",
            "Data columns (total 8 columns):\n",
            " #   Column        Non-Null Count   Dtype  \n",
            "---  ------        --------------   -----  \n",
            " 0   row_id        671736 non-null  int64  \n",
            " 1   datetime      671736 non-null  object \n",
            " 2   duration      671736 non-null  float64\n",
            " 3   title         671736 non-null  object \n",
            " 4   genres        671736 non-null  object \n",
            " 5   release_date  671736 non-null  object \n",
            " 6   movie_id      671736 non-null  object \n",
            " 7   user_id       671736 non-null  object \n",
            "dtypes: float64(1), int64(1), object(6)\n",
            "memory usage: 41.0+ MB\n"
          ]
        }
      ],
      "source": [
        "df.info()"
      ]
    },
    {
      "cell_type": "markdown",
      "metadata": {
        "id": "4xe1sq-4U9bA"
      },
      "source": [
        "#### Top 10 movies that each user clicked on regarding the number of clicks\n",
        "\n"
      ]
    },
    {
      "cell_type": "code",
      "execution_count": 4,
      "metadata": {
        "colab": {
          "base_uri": "https://localhost:8080/",
          "height": 415
        },
        "id": "s8Sx3SswU9bB",
        "outputId": "e08c8d21-89b6-46e3-d397-ba7727161639"
      },
      "outputs": [
        {
          "data": {
            "text/html": [
              "<div>\n",
              "<style scoped>\n",
              "    .dataframe tbody tr th:only-of-type {\n",
              "        vertical-align: middle;\n",
              "    }\n",
              "\n",
              "    .dataframe tbody tr th {\n",
              "        vertical-align: top;\n",
              "    }\n",
              "\n",
              "    .dataframe thead th {\n",
              "        text-align: right;\n",
              "    }\n",
              "</style>\n",
              "<table border=\"1\" class=\"dataframe\">\n",
              "  <thead>\n",
              "    <tr style=\"text-align: right;\">\n",
              "      <th></th>\n",
              "      <th>user_id</th>\n",
              "      <th>movie_id</th>\n",
              "      <th>number_of_clicks</th>\n",
              "      <th>title</th>\n",
              "      <th>genres</th>\n",
              "    </tr>\n",
              "  </thead>\n",
              "  <tbody>\n",
              "    <tr>\n",
              "      <th>2</th>\n",
              "      <td>000052a0a0</td>\n",
              "      <td>4718f9963c</td>\n",
              "      <td>9</td>\n",
              "      <td>Looper</td>\n",
              "      <td>Action, Drama, Sci-Fi, Thriller</td>\n",
              "    </tr>\n",
              "    <tr>\n",
              "      <th>3</th>\n",
              "      <td>000052a0a0</td>\n",
              "      <td>4fa0b092d6</td>\n",
              "      <td>3</td>\n",
              "      <td>Jumanji</td>\n",
              "      <td>Adventure, Comedy, Family, Fantasy</td>\n",
              "    </tr>\n",
              "    <tr>\n",
              "      <th>6</th>\n",
              "      <td>000052a0a0</td>\n",
              "      <td>7314699c23</td>\n",
              "      <td>3</td>\n",
              "      <td>Frailty</td>\n",
              "      <td>Crime, Drama, Thriller</td>\n",
              "    </tr>\n",
              "    <tr>\n",
              "      <th>5</th>\n",
              "      <td>000052a0a0</td>\n",
              "      <td>6275614f9a</td>\n",
              "      <td>2</td>\n",
              "      <td>Resident Evil</td>\n",
              "      <td>Action, Horror, Sci-Fi</td>\n",
              "    </tr>\n",
              "    <tr>\n",
              "      <th>1</th>\n",
              "      <td>000052a0a0</td>\n",
              "      <td>43bb6de314</td>\n",
              "      <td>1</td>\n",
              "      <td>Green Room</td>\n",
              "      <td>Horror, Music, Thriller</td>\n",
              "    </tr>\n",
              "    <tr>\n",
              "      <th>4</th>\n",
              "      <td>000052a0a0</td>\n",
              "      <td>59d313ed8b</td>\n",
              "      <td>1</td>\n",
              "      <td>Ant-Man</td>\n",
              "      <td>Action, Adventure, Comedy, Sci-Fi</td>\n",
              "    </tr>\n",
              "    <tr>\n",
              "      <th>7</th>\n",
              "      <td>000052a0a0</td>\n",
              "      <td>96debad268</td>\n",
              "      <td>1</td>\n",
              "      <td>The SpongeBob Movie: Sponge Out of Water</td>\n",
              "      <td>Animation, Action, Adventure, Comedy, Family, ...</td>\n",
              "    </tr>\n",
              "    <tr>\n",
              "      <th>8</th>\n",
              "      <td>000052a0a0</td>\n",
              "      <td>cccedbafeb</td>\n",
              "      <td>1</td>\n",
              "      <td>Resident Evil: Retribution</td>\n",
              "      <td>Action, Horror, Sci-Fi, Thriller</td>\n",
              "    </tr>\n",
              "    <tr>\n",
              "      <th>9</th>\n",
              "      <td>000052a0a0</td>\n",
              "      <td>d601124c11</td>\n",
              "      <td>1</td>\n",
              "      <td>The Big Lebowski</td>\n",
              "      <td>Comedy, Crime, Sport</td>\n",
              "    </tr>\n",
              "    <tr>\n",
              "      <th>10</th>\n",
              "      <td>000052a0a0</td>\n",
              "      <td>f254d41c3d</td>\n",
              "      <td>1</td>\n",
              "      <td>The Nice Guys</td>\n",
              "      <td>Action, Comedy, Crime, Mystery, Thriller</td>\n",
              "    </tr>\n",
              "  </tbody>\n",
              "</table>\n",
              "</div>"
            ],
            "text/plain": [
              "       user_id    movie_id  number_of_clicks  \\\n",
              "2   000052a0a0  4718f9963c                 9   \n",
              "3   000052a0a0  4fa0b092d6                 3   \n",
              "6   000052a0a0  7314699c23                 3   \n",
              "5   000052a0a0  6275614f9a                 2   \n",
              "1   000052a0a0  43bb6de314                 1   \n",
              "4   000052a0a0  59d313ed8b                 1   \n",
              "7   000052a0a0  96debad268                 1   \n",
              "8   000052a0a0  cccedbafeb                 1   \n",
              "9   000052a0a0  d601124c11                 1   \n",
              "10  000052a0a0  f254d41c3d                 1   \n",
              "\n",
              "                                       title  \\\n",
              "2                                     Looper   \n",
              "3                                    Jumanji   \n",
              "6                                    Frailty   \n",
              "5                              Resident Evil   \n",
              "1                                 Green Room   \n",
              "4                                    Ant-Man   \n",
              "7   The SpongeBob Movie: Sponge Out of Water   \n",
              "8                 Resident Evil: Retribution   \n",
              "9                           The Big Lebowski   \n",
              "10                             The Nice Guys   \n",
              "\n",
              "                                               genres  \n",
              "2                     Action, Drama, Sci-Fi, Thriller  \n",
              "3                  Adventure, Comedy, Family, Fantasy  \n",
              "6                              Crime, Drama, Thriller  \n",
              "5                              Action, Horror, Sci-Fi  \n",
              "1                             Horror, Music, Thriller  \n",
              "4                   Action, Adventure, Comedy, Sci-Fi  \n",
              "7   Animation, Action, Adventure, Comedy, Family, ...  \n",
              "8                    Action, Horror, Sci-Fi, Thriller  \n",
              "9                                Comedy, Crime, Sport  \n",
              "10           Action, Comedy, Crime, Mystery, Thriller  "
            ]
          },
          "execution_count": 4,
          "metadata": {},
          "output_type": "execute_result"
        }
      ],
      "source": [
        "df_clicks = df.groupby(['user_id', 'movie_id']).size().reset_index(name='number_of_clicks')\n",
        "\n",
        "if 'title' in df.columns and 'genres' in df.columns:\n",
        "    df_clicks = df_clicks.merge(df[['movie_id', 'title', 'genres']].drop_duplicates(), on='movie_id', how='left')\n",
        "\n",
        "#filtering users with too small data\n",
        "user_movie_counts = df_clicks.groupby(\"user_id\")[\"movie_id\"].count()\n",
        "\n",
        "valid_users = user_movie_counts[user_movie_counts >= 3].index\n",
        "\n",
        "df_clicks_filtered = df_clicks[df_clicks[\"user_id\"].isin(valid_users)]\n",
        "\n",
        "#sorting\n",
        "df_clicks_sorted = df_clicks_filtered.sort_values(['user_id', 'number_of_clicks'], ascending=[True, False])\n",
        "df_top_10 = df_clicks_sorted.groupby('user_id').head(10)\n",
        "\n",
        "df_top_10.head(10)  # Print first 10 rows for preview \n"
      ]
    },
    {
      "cell_type": "code",
      "execution_count": 5,
      "metadata": {},
      "outputs": [
        {
          "name": "stderr",
          "output_type": "stream",
          "text": [
            "C:\\Users\\Utente\\AppData\\Local\\Temp\\ipykernel_31632\\1665990091.py:4: FutureWarning: \n",
            "\n",
            "Passing `palette` without assigning `hue` is deprecated and will be removed in v0.14.0. Assign the `y` variable to `hue` and set `legend=False` for the same effect.\n",
            "\n",
            "  sns.barplot(x=top_movies.values, y=top_movies.index, palette='viridis')\n"
          ]
        },
        {
          "data": {
            "image/png": "[encoded data removed]",
            "text/plain": [
              "<Figure size 1200x600 with 1 Axes>"
            ]
          },
          "metadata": {},
          "output_type": "display_data"
        }
      ],
      "source": [
        "top_movies = df_clicks.groupby('title')['number_of_clicks'].sum().sort_values(ascending=False).head(10)\n",
        "\n",
        "plt.figure(figsize=(12, 6))\n",
        "sns.barplot(x=top_movies.values, y=top_movies.index, palette='viridis')\n",
        "plt.title(\"Top 10 Most Clicked Movies\")\n",
        "plt.xlabel(\"Total Clicks\")\n",
        "plt.ylabel(\"Movie Title\")\n",
        "plt.tight_layout()\n",
        "plt.show()"
      ]
    },
    {
      "cell_type": "code",
      "execution_count": 6,
      "metadata": {},
      "outputs": [
        {
          "data": {
            "image/png": "[encoded data removed]",
            "text/plain": [
              "<Figure size 1000x500 with 1 Axes>"
            ]
          },
          "metadata": {},
          "output_type": "display_data"
        }
      ],
      "source": [
        "movie_clicks = df_clicks.groupby('movie_id')['number_of_clicks'].sum()\n",
        "\n",
        "plt.figure(figsize=(10, 5))\n",
        "sns.histplot(movie_clicks, bins=50, kde=True)\n",
        "plt.title(\"Distribution of Total Clicks per Movie\")\n",
        "plt.xlabel(\"Total Clicks\")\n",
        "plt.ylabel(\"Number of Movies\")\n",
        "plt.tight_layout()\n",
        "plt.show()"
      ]
    },
    {
      "cell_type": "code",
      "execution_count": 15,
      "metadata": {
        "colab": {
          "base_uri": "https://localhost:8080/",
          "height": 397
        },
        "id": "mBtxh1vbU9bC",
        "outputId": "7eabe056-68fe-4a0b-b7a7-4fbbd092e622"
      },
      "outputs": [
        {
          "data": {
            "text/html": [
              "<div>\n",
              "<style scoped>\n",
              "    .dataframe tbody tr th:only-of-type {\n",
              "        vertical-align: middle;\n",
              "    }\n",
              "\n",
              "    .dataframe tbody tr th {\n",
              "        vertical-align: top;\n",
              "    }\n",
              "\n",
              "    .dataframe thead th {\n",
              "        text-align: right;\n",
              "    }\n",
              "</style>\n",
              "<table border=\"1\" class=\"dataframe\">\n",
              "  <thead>\n",
              "    <tr style=\"text-align: right;\">\n",
              "      <th></th>\n",
              "      <th>user_id</th>\n",
              "      <th>top_movies</th>\n",
              "      <th>top_genres</th>\n",
              "    </tr>\n",
              "  </thead>\n",
              "  <tbody>\n",
              "    <tr>\n",
              "      <th>0</th>\n",
              "      <td>000052a0a0</td>\n",
              "      <td>[Looper, Jumanji, Frailty, Resident Evil, Gree...</td>\n",
              "      <td>[Action, Drama, Sci-Fi, Thriller, Adventure, C...</td>\n",
              "    </tr>\n",
              "    <tr>\n",
              "      <th>1</th>\n",
              "      <td>0002aab109</td>\n",
              "      <td>[127 Hours, King Cobra, The Iron Lady]</td>\n",
              "      <td>[Biography, Drama, Comedy, Crime, Drama, Biogr...</td>\n",
              "    </tr>\n",
              "    <tr>\n",
              "      <th>2</th>\n",
              "      <td>0005c8fbac</td>\n",
              "      <td>[The Purge, In Bruges, Shrek, Jaws]</td>\n",
              "      <td>[Horror, Thriller, Comedy, Crime, Drama, Thril...</td>\n",
              "    </tr>\n",
              "    <tr>\n",
              "      <th>3</th>\n",
              "      <td>0006ea6b5c</td>\n",
              "      <td>[Dragon Blade, Shimmer Lake, Okja, War Machine...</td>\n",
              "      <td>[Action, Adventure, Drama, Fantasy, History, C...</td>\n",
              "    </tr>\n",
              "    <tr>\n",
              "      <th>4</th>\n",
              "      <td>000a3ec774</td>\n",
              "      <td>[Valentine's Day, ROMA, The Bookshop]</td>\n",
              "      <td>[Comedy, Romance, Drama, Drama]</td>\n",
              "    </tr>\n",
              "  </tbody>\n",
              "</table>\n",
              "</div>"
            ],
            "text/plain": [
              "      user_id                                         top_movies  \\\n",
              "0  000052a0a0  [Looper, Jumanji, Frailty, Resident Evil, Gree...   \n",
              "1  0002aab109             [127 Hours, King Cobra, The Iron Lady]   \n",
              "2  0005c8fbac                [The Purge, In Bruges, Shrek, Jaws]   \n",
              "3  0006ea6b5c  [Dragon Blade, Shimmer Lake, Okja, War Machine...   \n",
              "4  000a3ec774              [Valentine's Day, ROMA, The Bookshop]   \n",
              "\n",
              "                                          top_genres  \n",
              "0  [Action, Drama, Sci-Fi, Thriller, Adventure, C...  \n",
              "1  [Biography, Drama, Comedy, Crime, Drama, Biogr...  \n",
              "2  [Horror, Thriller, Comedy, Crime, Drama, Thril...  \n",
              "3  [Action, Adventure, Drama, Fantasy, History, C...  \n",
              "4                    [Comedy, Romance, Drama, Drama]  "
            ]
          },
          "execution_count": 15,
          "metadata": {},
          "output_type": "execute_result"
        }
      ],
      "source": [
        "# top 10 movies for all users as a list\n",
        "\n",
        "top10_per_user = df_top_10.groupby('user_id').agg(top_movies=('title', list), top_genres=('genres', list)).reset_index()\n",
        "top10_per_user.head()"
      ]
    },
    {
      "cell_type": "markdown",
      "metadata": {
        "id": "cIlpPI5PU9bD"
      },
      "source": [
        "### Minhash Signatures\n",
        "\n",
        "Using the movie genre and user_ids, implement your min-hash signatures so that users with similar interests in a genre appear in the same bucket"
      ]
    },
    {
      "cell_type": "code",
      "execution_count": 18,
      "metadata": {
        "id": "vlrr4wVEU9bE"
      },
      "outputs": [],
      "source": [
        "# create Minhash signatures\n",
        "def compute_minhash(movie_list, num_perm=128):\n",
        "    m = MinHash(num_perm=num_perm)\n",
        "    for movie in movie_list:\n",
        "        m.update(movie.encode('utf8'))\n",
        "    return m\n",
        "\n",
        "# apply Minhash to users\n",
        "top10_per_user[\"minhash\"] = top10_per_user[\"top_movies\"].apply(lambda x: compute_minhash(x))"
      ]
    },
    {
      "cell_type": "markdown",
      "metadata": {
        "id": "UBySP8TbU9bG"
      },
      "source": [
        "### Locality-Sensitive Hashing (LSH)"
      ]
    },
    {
      "cell_type": "code",
      "execution_count": 30,
      "metadata": {
        "id": "jR5bFNchU9bG"
      },
      "outputs": [],
      "source": [
        "# create LSH with 10 groups (b=10)\n",
        "lsh = MinHashLSH(threshold=0.2, num_perm=128)\n",
        "\n",
        "# Add users to LSH\n",
        "for index, row in top10_per_user.iterrows():\n",
        "    lsh.insert(str(row[\"user_id\"]), row[\"minhash\"])"
      ]
    },
    {
      "cell_type": "code",
      "execution_count": 31,
      "metadata": {
        "id": "7sMn-Gn6etz0"
      },
      "outputs": [],
      "source": [
        "def recommend_movies(user_id):\n",
        "    user_id = str(user_id)\n",
        "\n",
        "    # get the user's row\n",
        "    user_row = top10_per_user[top10_per_user[\"user_id\"].astype(str) == user_id]\n",
        "    if user_row.empty:\n",
        "        return []\n",
        "\n",
        "    # get user's MinHash\n",
        "    user_minhash = user_row[\"minhash\"].values[0]\n",
        "    similar_users = lsh.query(user_minhash)\n",
        "\n",
        "    # get user's own movies\n",
        "    user_movies = set(user_row[\"top_movies\"].values[0])\n",
        "    recommended_movies = set()\n",
        "\n",
        "    for similar_user in similar_users:\n",
        "        if similar_user == user_id:\n",
        "            continue\n",
        "        similar_movies = set(\n",
        "            top10_per_user[top10_per_user[\"user_id\"].astype(str) == similar_user][\"top_movies\"].values[0]\n",
        "        )\n",
        "        recommended_movies.update(similar_movies - user_movies)\n",
        "\n",
        "    return list(recommended_movies)[:5]"
      ]
    },
    {
      "cell_type": "code",
      "execution_count": 32,
      "metadata": {
        "colab": {
          "base_uri": "https://localhost:8080/"
        },
        "id": "eBjtDk2IjOoN",
        "outputId": "9b3cc626-6649-4e5e-adf6-158669188204"
      },
      "outputs": [
        {
          "name": "stdout",
          "output_type": "stream",
          "text": [
            "['Looper', 'Jumanji', 'Frailty', 'Resident Evil', 'Green Room', 'Ant-Man', 'The SpongeBob Movie: Sponge Out of Water', 'Resident Evil: Retribution', 'The Big Lebowski', 'The Nice Guys']\n",
            "['The Grand Budapest Hotel', \"You Don't Mess with the Zohan\", 'Woman on Top', 'Ghostbusters II', 'Okja']\n"
          ]
        }
      ],
      "source": [
        "# for ex user 0002aab109\n",
        "print(top10_per_user.loc[top10_per_user[\"user_id\"] == \"000052a0a0\", \"top_movies\"].values[0])\n",
        "print(recommend_movies(\"000052a0a0\"))"
      ]
    },
    {
      "cell_type": "markdown",
      "metadata": {
        "id": "AIaXE6chkLTv"
      },
      "source": [
        "### Evaluating Recommendation quality using Jaccard similiarity"
      ]
    },
    {
      "cell_type": "code",
      "execution_count": 33,
      "metadata": {
        "colab": {
          "base_uri": "https://localhost:8080/",
          "height": 356
        },
        "id": "20BtzG3zkDwP",
        "outputId": "bb2a1caa-b9fe-4e09-ae70-40bbb18d6e11"
      },
      "outputs": [
        {
          "name": "stdout",
          "output_type": "stream",
          "text": [
            "Users evaluated: 702 / 1000\n",
            "Average Jaccard Similarity (train/test): 0.0050\n"
          ]
        }
      ],
      "source": [
        "import random\n",
        "\n",
        "def evaluate_recommendations(user_id, holdout_size=3, num_recommendations=5):\n",
        "    user_row = top10_per_user[top10_per_user[\"user_id\"] == user_id]\n",
        "    if user_row.empty:\n",
        "        return None\n",
        "    \n",
        "    movies = user_row[\"top_movies\"].values[0]\n",
        "    if len(movies) <= holdout_size:\n",
        "        return None  # Not enough movies to split\n",
        "\n",
        "    # Split into train/test\n",
        "    test_set = set(random.sample(movies, holdout_size))\n",
        "    train_set = set(movies) - test_set\n",
        "\n",
        "    # Run recommender using only train set\n",
        "    def recommend_from_subset(train_movies):\n",
        "        m = compute_minhash(list(train_movies))\n",
        "        similar_users = lsh.query(m)\n",
        "        recs = set()\n",
        "        for sim_user in similar_users:\n",
        "            if sim_user == str(user_id):\n",
        "                continue\n",
        "            sim_movies = set(top10_per_user[top10_per_user[\"user_id\"] == sim_user][\"top_movies\"].values[0])\n",
        "            recs.update(sim_movies - train_movies)\n",
        "        return list(recs)[:num_recommendations]\n",
        "\n",
        "    recommended = set(recommend_from_subset(train_set))\n",
        "    \n",
        "    if not recommended:\n",
        "        return 0\n",
        "\n",
        "    return len(recommended & test_set) / len(recommended | test_set)\n",
        "\n",
        "# Evaluate over a sample\n",
        "precision_scores = []\n",
        "for user in sampled_users:\n",
        "    score = evaluate_recommendations(user)\n",
        "    if score is not None:\n",
        "        precision_scores.append(score)\n",
        "\n",
        "# Report\n",
        "if precision_scores:\n",
        "    print(f\"Users evaluated: {len(precision_scores)} / {len(sampled_users)}\")\n",
        "    print(f\"Average Jaccard Similarity (train/test): {sum(precision_scores) / len(precision_scores):.4f}\")\n",
        "else:\n",
        "    print(\"No users with enough data for evaluation.\")\n"
      ]
    },
    {
      "cell_type": "markdown",
      "metadata": {
        "id": "jvhomWRHU9bI"
      },
      "source": [
        "#### Feature Engineering"
      ]
    },
    {
      "cell_type": "code",
      "execution_count": null,
      "metadata": {
        "id": "Fk0hFghSU9bI"
      },
      "outputs": [],
      "source": [
        "# function to calculate the favorite genre\n",
        "def favorite_genre(users_df):\n",
        "    return users_df.groupby('genres')['duration'].sum().idxmax()\n",
        "\n",
        "# function to count total clicks\n",
        "def total_clicks_count(users_df):\n",
        "    return users_df.shape[0]\n",
        "\n",
        "# function to count number of unique movies watched\n",
        "def unique_movies_watched(users_df):\n",
        "    return users_df['movie_id'].nunique()\n",
        "\n",
        "# function to find the most watched movie\n",
        "def favourite_movie(users_df):\n",
        "    return users_df.groupby('movie_id')['duration'].sum().idxmax()\n",
        "\n",
        "# function to find the most active month\n",
        "def most_active_month(users_df):\n",
        "    return users_df['datetime'].dt.month.mode()[0]"
      ]
    },
    {
      "cell_type": "code",
      "execution_count": null,
      "metadata": {
        "id": "eG6xNmJ9U9bI"
      },
      "outputs": [],
      "source": [
        "df1 = df.copy()\n",
        "\n",
        "# convert to datetime format\n",
        "df1['datetime'] = pd.to_datetime(df1['datetime'])\n",
        "\n",
        "# group by user_id\n",
        "grouped = df1.groupby('user_id')\n",
        "\n",
        "# calculate favorite genre\n",
        "favorite_genre = grouped.apply(lambda x: x.groupby('genres')['duration'].sum().idxmax())\n",
        "\n",
        "# calculate total clicks count\n",
        "total_clicks_count = grouped.size()\n",
        "\n",
        "# calculate number of unique movies watched\n",
        "unique_movies_watched = grouped['movie_id'].nunique()\n",
        "\n",
        "# calculate favorite movie\n",
        "favourite_movie = grouped.apply(lambda x: x.groupby('movie_id')['duration'].sum().idxmax())\n",
        "\n",
        "# calculate most active month\n",
        "most_active_month = grouped['datetime'].apply(lambda x: x.dt.month.mode()[0])\n",
        "\n",
        "# combine all features\n",
        "user_features_df = pd.DataFrame({\n",
        "    'favorite_genre': favorite_genre,\n",
        "    'total_clicks_count': total_clicks_count,\n",
        "    'number_of_unique_movies_watched': unique_movies_watched,\n",
        "    'favourite_movie': favourite_movie,\n",
        "    'most_active_month': most_active_month\n",
        "}).reset_index()"
      ]
    },
    {
      "cell_type": "code",
      "execution_count": null,
      "metadata": {
        "id": "EQ2kIlATU9bI",
        "outputId": "707e0b8c-aa9b-41fd-d0b7-6673de651daf"
      },
      "outputs": [
        {
          "data": {
            "text/html": [
              "<div>\n",
              "<style scoped>\n",
              "    .dataframe tbody tr th:only-of-type {\n",
              "        vertical-align: middle;\n",
              "    }\n",
              "\n",
              "    .dataframe tbody tr th {\n",
              "        vertical-align: top;\n",
              "    }\n",
              "\n",
              "    .dataframe thead th {\n",
              "        text-align: right;\n",
              "    }\n",
              "</style>\n",
              "<table border=\"1\" class=\"dataframe\">\n",
              "  <thead>\n",
              "    <tr style=\"text-align: right;\">\n",
              "      <th></th>\n",
              "      <th>user_id</th>\n",
              "      <th>favorite_genre</th>\n",
              "      <th>total_clicks_count</th>\n",
              "      <th>number_of_unique_movies_watched</th>\n",
              "      <th>favourite_movie</th>\n",
              "      <th>most_active_month</th>\n",
              "    </tr>\n",
              "  </thead>\n",
              "  <tbody>\n",
              "    <tr>\n",
              "      <th>0</th>\n",
              "      <td>00004e2862</td>\n",
              "      <td>Crime</td>\n",
              "      <td>3</td>\n",
              "      <td>1</td>\n",
              "      <td>9bfee795ff</td>\n",
              "      <td>12</td>\n",
              "    </tr>\n",
              "    <tr>\n",
              "      <th>1</th>\n",
              "      <td>000052a0a0</td>\n",
              "      <td>Action</td>\n",
              "      <td>92</td>\n",
              "      <td>11</td>\n",
              "      <td>f254d41c3d</td>\n",
              "      <td>6</td>\n",
              "    </tr>\n",
              "    <tr>\n",
              "      <th>2</th>\n",
              "      <td>000090e7c8</td>\n",
              "      <td>Mystery</td>\n",
              "      <td>3</td>\n",
              "      <td>1</td>\n",
              "      <td>eb72fbc6ee</td>\n",
              "      <td>3</td>\n",
              "    </tr>\n",
              "    <tr>\n",
              "      <th>3</th>\n",
              "      <td>000118a755</td>\n",
              "      <td>Horror</td>\n",
              "      <td>4</td>\n",
              "      <td>2</td>\n",
              "      <td>24c4c7425d</td>\n",
              "      <td>6</td>\n",
              "    </tr>\n",
              "    <tr>\n",
              "      <th>4</th>\n",
              "      <td>000296842d</td>\n",
              "      <td>Drama</td>\n",
              "      <td>32</td>\n",
              "      <td>1</td>\n",
              "      <td>e847f14da5</td>\n",
              "      <td>12</td>\n",
              "    </tr>\n",
              "  </tbody>\n",
              "</table>\n",
              "</div>"
            ],
            "text/plain": [
              "      user_id favorite_genre  total_clicks_count  \\\n",
              "0  00004e2862          Crime                   3   \n",
              "1  000052a0a0         Action                  92   \n",
              "2  000090e7c8        Mystery                   3   \n",
              "3  000118a755         Horror                   4   \n",
              "4  000296842d          Drama                  32   \n",
              "\n",
              "   number_of_unique_movies_watched favourite_movie  most_active_month  \n",
              "0                                1      9bfee795ff                 12  \n",
              "1                               11      f254d41c3d                  6  \n",
              "2                                1      eb72fbc6ee                  3  \n",
              "3                                2      24c4c7425d                  6  \n",
              "4                                1      e847f14da5                 12  "
            ]
          },
          "execution_count": 41,
          "metadata": {},
          "output_type": "execute_result"
        }
      ],
      "source": [
        "user_features_df.head()"
      ]
    }
  ],
  "metadata": {
    "accelerator": "GPU",
    "colab": {
      "gpuType": "T4",
      "provenance": []
    },
    "kernelspec": {
      "display_name": "Python 3",
      "name": "python3"
    },
    "language_info": {
      "codemirror_mode": {
        "name": "ipython",
        "version": 3
      },
      "file_extension": ".py",
      "mimetype": "text/x-python",
      "name": "python",
      "nbconvert_exporter": "python",
      "pygments_lexer": "ipython3",
      "version": "3.11.9"
    }
  },
  "nbformat": 4,
  "nbformat_minor": 0
}
